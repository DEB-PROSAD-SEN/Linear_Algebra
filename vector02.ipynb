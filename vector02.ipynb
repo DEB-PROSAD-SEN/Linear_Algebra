{
 "cells": [
  {
   "cell_type": "markdown",
   "metadata": {},
   "source": [
    "DOT , CROSS PRODUCT OF VECTOR AMD PROJECTION OF VECTOR"
   ]
  },
  {
   "cell_type": "code",
   "execution_count": 1,
   "metadata": {},
   "outputs": [],
   "source": [
    "import numpy as np"
   ]
  },
  {
   "cell_type": "markdown",
   "metadata": {},
   "source": [
    "Dot product of 2 vector"
   ]
  },
  {
   "cell_type": "code",
   "execution_count": 2,
   "metadata": {},
   "outputs": [
    {
     "name": "stdout",
     "output_type": "stream",
     "text": [
      "12\n"
     ]
    }
   ],
   "source": [
    "a=np.array([2,1])\n",
    "b=np.array([4,4])\n",
    "a_dot_b=np.dot(a,b)\n",
    "print(a_dot_b)"
   ]
  },
  {
   "cell_type": "code",
   "execution_count": 4,
   "metadata": {},
   "outputs": [
    {
     "name": "stdout",
     "output_type": "stream",
     "text": [
      "5740\n"
     ]
    }
   ],
   "source": [
    "c=np.array([40,20,30])\n",
    "d=np.array([54,65,76])\n",
    "c_dot_d=np.dot(c,d)\n",
    "print(c_dot_d)"
   ]
  },
  {
   "cell_type": "markdown",
   "metadata": {},
   "source": [
    "Cross product of 2 vector"
   ]
  },
  {
   "cell_type": "code",
   "execution_count": 5,
   "metadata": {},
   "outputs": [
    {
     "name": "stdout",
     "output_type": "stream",
     "text": [
      "4\n"
     ]
    }
   ],
   "source": [
    "a_cross_b=np.cross(a,b)\n",
    "print(a_cross_b)"
   ]
  },
  {
   "cell_type": "code",
   "execution_count": 6,
   "metadata": {},
   "outputs": [
    {
     "name": "stdout",
     "output_type": "stream",
     "text": [
      "[ -430 -1420  1520]\n"
     ]
    }
   ],
   "source": [
    "d_cross_c=np.cross(c,d)\n",
    "print(d_cross_c)"
   ]
  },
  {
   "cell_type": "markdown",
   "metadata": {},
   "source": [
    "projection of one vector on another vector"
   ]
  },
  {
   "cell_type": "code",
   "execution_count": 7,
   "metadata": {},
   "outputs": [
    {
     "name": "stdout",
     "output_type": "stream",
     "text": [
      "PROJECTION OF K ON V VECTOR=  [-1.12  0.84]\n"
     ]
    }
   ],
   "source": [
    "k=np.array([2,5])\n",
    "v=np.array([8,-6])\n",
    "magnitude_0f_v=np.sqrt(sum(v**2))\n",
    "projection_of_a_on_v=(np.dot(k,v)/magnitude_0f_v**2)*v\n",
    "print(\"PROJECTION OF K ON V VECTOR= \",projection_of_a_on_v)"
   ]
  }
 ],
 "metadata": {
  "kernelspec": {
   "display_name": "Python 3",
   "language": "python",
   "name": "python3"
  },
  "language_info": {
   "codemirror_mode": {
    "name": "ipython",
    "version": 3
   },
   "file_extension": ".py",
   "mimetype": "text/x-python",
   "name": "python",
   "nbconvert_exporter": "python",
   "pygments_lexer": "ipython3",
   "version": "3.12.3"
  }
 },
 "nbformat": 4,
 "nbformat_minor": 2
}
